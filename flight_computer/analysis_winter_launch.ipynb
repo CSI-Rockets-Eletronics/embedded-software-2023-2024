{
 "cells": [
  {
   "cell_type": "code",
   "execution_count": null,
   "metadata": {},
   "outputs": [],
   "source": [
    "import pandas as pd\n",
    "from urllib.parse import quote"
   ]
  },
  {
   "cell_type": "code",
   "execution_count": null,
   "metadata": {},
   "outputs": [],
   "source": [
    "window_micros = 200 * 1e6\n",
    "\n",
    "startTs = 1705169091376222\n",
    "endTs = startTs + window_micros\n",
    "\n",
    "session = \"[2023-12-09T04:14:00.672Z::854]\"\n",
    "\n",
    "\n",
    "def download_data(device: str):\n",
    "    url = f\"https://csiwiki.me.columbia.edu/rocketsdata2/export/0/{quote(session)}/{device}/records?startTs={startTs}&endTs={endTs}\"\n",
    "    return pd.read_csv(url)\n",
    "\n",
    "\n",
    "mpu = download_data(\"MPU\")\n",
    "dht = download_data(\"DHT\")\n",
    "\n",
    "print(\"\\nMPU:\")\n",
    "print(mpu.head())\n",
    "\n",
    "print(\"\\nDHT:\")\n",
    "print(dht.head())"
   ]
  }
 ],
 "metadata": {
  "kernelspec": {
   "display_name": "env",
   "language": "python",
   "name": "python3"
  },
  "language_info": {
   "codemirror_mode": {
    "name": "ipython",
    "version": 3
   },
   "file_extension": ".py",
   "mimetype": "text/x-python",
   "name": "python",
   "nbconvert_exporter": "python",
   "pygments_lexer": "ipython3",
   "version": "3.11.7"
  }
 },
 "nbformat": 4,
 "nbformat_minor": 2
}
