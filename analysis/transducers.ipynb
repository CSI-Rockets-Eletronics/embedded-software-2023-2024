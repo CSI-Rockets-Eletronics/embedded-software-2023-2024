{
 "cells": [
  {
   "cell_type": "code",
   "execution_count": null,
   "metadata": {},
   "outputs": [],
   "source": [
    "import pandas as pd\n",
    "from datetime import datetime\n",
    "import matplotlib.pyplot as plt\n",
    "\n",
    "# base_url = \"http://fs-pi.local:3000\"\n",
    "base_url = \"https://csiwiki.me.columbia.edu/rocketsdata2\"\n",
    "\n",
    "device = \"Scientific\"\n",
    "window_micros = 10 * 1e6  # 10 seconds\n",
    "\n",
    "# 2AM today\n",
    "start = datetime.now().replace(hour=2, minute=0, second=0, microsecond=0)\n",
    "start_ts = int(start.timestamp() * 1e6)\n",
    "\n",
    "end_ts = start_ts + window_micros\n",
    "\n",
    "\n",
    "url = f\"{base_url}/export/0/latest/{device}/records?&startTs={start_ts}&endTs={end_ts}\"\n",
    "scientific = pd.read_csv(url)"
   ]
  },
  {
   "cell_type": "code",
   "execution_count": null,
   "metadata": {},
   "outputs": [],
   "source": [
    "median_window = 100\n",
    "\n",
    "scientific[\"bt1_psi\"] = scientific[\"bt1\"] / 1000\n",
    "scientific[\"bt2_psi\"] = scientific[\"bt2\"] / 1000\n",
    "\n",
    "median1 = scientific[\"bt1_psi\"].rolling(median_window).median()\n",
    "median2 = scientific[\"bt2_psi\"].rolling(median_window).median()\n",
    "\n",
    "plt.scatter(scientific[\"ts\"], scientific[\"bt1_psi\"], label=\"bt1_psi\", s=0.1)\n",
    "plt.scatter(scientific[\"ts\"], scientific[\"bt2_psi\"], label=\"bt2_psi\", s=0.1)\n",
    "\n",
    "plt.plot(scientific[\"ts\"], median1, label=\"Median bt1_psi\", color=\"red\")\n",
    "plt.plot(scientific[\"ts\"], median2, label=\"Median bt2_psi\", color=\"red\")\n",
    "\n",
    "plt.legend()\n",
    "plt.show()"
   ]
  }
 ],
 "metadata": {
  "kernelspec": {
   "display_name": "env",
   "language": "python",
   "name": "python3"
  },
  "language_info": {
   "codemirror_mode": {
    "name": "ipython",
    "version": 3
   },
   "file_extension": ".py",
   "mimetype": "text/x-python",
   "name": "python",
   "nbconvert_exporter": "python",
   "pygments_lexer": "ipython3",
   "version": "3.11.7"
  }
 },
 "nbformat": 4,
 "nbformat_minor": 2
}
